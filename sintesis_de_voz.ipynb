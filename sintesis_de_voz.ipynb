{
 "cells": [
  {
   "cell_type": "code",
   "execution_count": null,
   "id": "22cb91e8",
   "metadata": {},
   "outputs": [],
   "source": [
    "# ============================================\n",
    "# Síntesis de Voz (Texto a Voz)\n",
    "# Autor: Maximiliano Ruiz\n",
    "# Fecha: Octubre 2025\n",
    "# ============================================\n",
    "\n",
    "# Este cuaderno implementa la conversión de texto a voz\n",
    "# utilizando la librería pyttsx3."
   ]
  },
  {
   "cell_type": "code",
   "execution_count": 1,
   "id": "26f340f7",
   "metadata": {},
   "outputs": [
    {
     "name": "stdout",
     "output_type": "stream",
     "text": [
      "Requirement already satisfied: pyttsx3 in c:\\users\\maxi9\\appdata\\local\\programs\\python\\python314\\lib\\site-packages (2.99)\n",
      "Requirement already satisfied: comtypes in c:\\users\\maxi9\\appdata\\local\\programs\\python\\python314\\lib\\site-packages (from pyttsx3) (1.4.13)\n",
      "Requirement already satisfied: pypiwin32 in c:\\users\\maxi9\\appdata\\local\\programs\\python\\python314\\lib\\site-packages (from pyttsx3) (223)\n",
      "Requirement already satisfied: pywin32 in c:\\users\\maxi9\\appdata\\local\\programs\\python\\python314\\lib\\site-packages (from pyttsx3) (311)\n",
      "Note: you may need to restart the kernel to use updated packages.\n"
     ]
    }
   ],
   "source": [
    "# === Instalación de librerías necesarias ===\n",
    "# Ejecutar esta celda una sola vez.\n",
    "\n",
    "%pip install pyttsx3"
   ]
  },
  {
   "cell_type": "code",
   "execution_count": 2,
   "id": "387f80b5",
   "metadata": {},
   "outputs": [],
   "source": [
    "# === Importación de librerías ===\n",
    "import pyttsx3"
   ]
  },
  {
   "cell_type": "code",
   "execution_count": null,
   "id": "9e5f0e17",
   "metadata": {},
   "outputs": [],
   "source": [
    "# === Función: Síntesis de Voz ===\n",
    "\n",
    "def sintetizar_voz():\n",
    "    \"\"\"\n",
    "    Convierte texto ingresado por el usuario en voz\n",
    "    utilizando la librería pyttsx3.\n",
    "    \"\"\"\n",
    "    print(\"=== Síntesis de voz (Texto a Voz) ===\")\n",
    "    texto = input(\"Ingrese el texto que desea convertir a voz: \")\n",
    "\n",
    "    # Inicializar el motor de voz\n",
    "    engine = pyttsx3.init()\n",
    "\n",
    "    # Configurar propiedades\n",
    "    engine.setProperty('rate', 150)   # velocidad de habla\n",
    "    engine.setProperty('volume', 1.0) # volumen máximo\n",
    "\n",
    "    # Reproducir el texto\n",
    "    print(\"Reproduciendo...\")\n",
    "    engine.say(texto)\n",
    "    engine.runAndWait()\n",
    "    print(\"Síntesis finalizada.\")"
   ]
  },
  {
   "cell_type": "code",
   "execution_count": 7,
   "id": "c7839c46",
   "metadata": {},
   "outputs": [
    {
     "name": "stdout",
     "output_type": "stream",
     "text": [
      "=== Síntesis de voz (Texto a Voz) ===\n",
      "Reproduciendo...\n",
      "Síntesis finalizada.\n"
     ]
    }
   ],
   "source": [
    "# === Ejemplo de ejecución ===\n",
    "\n",
    "sintetizar_voz()"
   ]
  }
 ],
 "metadata": {
  "kernelspec": {
   "display_name": "Python 3",
   "language": "python",
   "name": "python3"
  },
  "language_info": {
   "codemirror_mode": {
    "name": "ipython",
    "version": 3
   },
   "file_extension": ".py",
   "mimetype": "text/x-python",
   "name": "python",
   "nbconvert_exporter": "python",
   "pygments_lexer": "ipython3",
   "version": "3.14.0"
  }
 },
 "nbformat": 4,
 "nbformat_minor": 5
}
