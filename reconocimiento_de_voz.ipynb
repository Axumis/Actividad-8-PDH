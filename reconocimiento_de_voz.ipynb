{
 "cells": [
  {
   "cell_type": "code",
   "execution_count": null,
   "id": "de9ff1c6",
   "metadata": {},
   "outputs": [],
   "source": [
    "# ============================================\n",
    "# Reconocimiento de Voz\n",
    "# Autor: Maximiliano Ruiz\n",
    "# Fecha: Octubre 2025\n",
    "# ============================================\n",
    "\n",
    "# Este cuaderno implementa la conversión de voz (audio WAV) a texto\n",
    "# utilizando la librería SpeechRecognition."
   ]
  },
  {
   "cell_type": "code",
   "execution_count": null,
   "id": "5e67f3bd",
   "metadata": {},
   "outputs": [
    {
     "name": "stdout",
     "output_type": "stream",
     "text": [
      "Requirement already satisfied: SpeechRecognition in c:\\users\\maxi9\\appdata\\local\\programs\\python\\python314\\lib\\site-packages (3.14.3)\n",
      "Requirement already satisfied: typing-extensions in c:\\users\\maxi9\\appdata\\local\\programs\\python\\python314\\lib\\site-packages (from SpeechRecognition) (4.15.0)\n",
      "Requirement already satisfied: standard-aifc in c:\\users\\maxi9\\appdata\\local\\programs\\python\\python314\\lib\\site-packages (from SpeechRecognition) (3.13.0)\n",
      "Requirement already satisfied: audioop-lts in c:\\users\\maxi9\\appdata\\local\\programs\\python\\python314\\lib\\site-packages (from SpeechRecognition) (0.2.2)\n",
      "Requirement already satisfied: standard-chunk in c:\\users\\maxi9\\appdata\\local\\programs\\python\\python314\\lib\\site-packages (from standard-aifc->SpeechRecognition) (3.13.0)\n",
      "Note: you may need to restart the kernel to use updated packages.\n"
     ]
    }
   ],
   "source": [
    "# === Instalación de librerías necesarias ===\n",
    "# Ejecutar esta celda una sola vez.\n",
    "\n",
    "%pip install SpeechRecognition"
   ]
  },
  {
   "cell_type": "code",
   "execution_count": null,
   "id": "8ac7fa43",
   "metadata": {},
   "outputs": [],
   "source": [
    "# === Importación de librerías ===\n",
    "import speech_recognition as sr"
   ]
  },
  {
   "cell_type": "code",
   "execution_count": 5,
   "id": "d440f16d",
   "metadata": {},
   "outputs": [],
   "source": [
    "# === Función: Reconocimiento de Voz ===\n",
    "\n",
    "def reconocer_voz(archivo_audio):\n",
    "    \"\"\"\n",
    "    Convierte un archivo de audio WAV a texto usando SpeechRecognition.\n",
    "    Requiere que el archivo esté en el mismo directorio del notebook.\n",
    "    \"\"\"\n",
    "    print(\"=== Reconocimiento de voz (Audio a Texto) ===\")\n",
    "    recognizer = sr.Recognizer()\n",
    "\n",
    "    try:\n",
    "        with sr.AudioFile(archivo_audio) as source:\n",
    "            print(\"Procesando el archivo de audio...\")\n",
    "            audio = recognizer.record(source)\n",
    "\n",
    "        # Reconocimiento de voz mediante el servicio de Google\n",
    "        texto = recognizer.recognize_google(audio, language=\"es-ES\")\n",
    "\n",
    "        print(\"\\nTexto reconocido:\")\n",
    "        print(texto)\n",
    "        return texto\n",
    "\n",
    "    except FileNotFoundError:\n",
    "        print(\"⚠️ No se encontró el archivo de audio. Verifique el nombre o la ruta.\")\n",
    "    except sr.UnknownValueError:\n",
    "        print(\"⚠️ No se pudo reconocer el habla en el audio.\")\n",
    "    except sr.RequestError:\n",
    "        print(\"⚠️ Error con el servicio de reconocimiento de voz.\")"
   ]
  },
  {
   "cell_type": "code",
   "execution_count": 6,
   "id": "62bee7df",
   "metadata": {},
   "outputs": [
    {
     "name": "stdout",
     "output_type": "stream",
     "text": [
      "=== Reconocimiento de voz (Audio a Texto) ===\n",
      "Procesando el archivo de audio...\n",
      "\n",
      "Texto reconocido:\n",
      "Hola Mi nombre es Maximiliano Ruiz Y esta es una prueba para procesamiento del habla\n"
     ]
    },
    {
     "data": {
      "text/plain": [
       "'Hola Mi nombre es Maximiliano Ruiz Y esta es una prueba para procesamiento del habla'"
      ]
     },
     "execution_count": 6,
     "metadata": {},
     "output_type": "execute_result"
    }
   ],
   "source": [
    "# === Ejemplo de ejecución ===\n",
    "# Se recomienda usar un archivo de audio WAV grabado previamente.\n",
    "# Por ejemplo: ejemplo.wav\n",
    "\n",
    "archivo = input(\"Ingrese el nombre del archivo WAV (ej: ejemplo.wav): \")\n",
    "reconocer_voz(archivo)\n"
   ]
  }
 ],
 "metadata": {
  "kernelspec": {
   "display_name": "Python 3",
   "language": "python",
   "name": "python3"
  },
  "language_info": {
   "codemirror_mode": {
    "name": "ipython",
    "version": 3
   },
   "file_extension": ".py",
   "mimetype": "text/x-python",
   "name": "python",
   "nbconvert_exporter": "python",
   "pygments_lexer": "ipython3",
   "version": "3.14.0"
  }
 },
 "nbformat": 4,
 "nbformat_minor": 5
}
